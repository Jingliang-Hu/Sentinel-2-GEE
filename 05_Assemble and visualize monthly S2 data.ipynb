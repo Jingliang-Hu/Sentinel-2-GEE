{
 "cells": [
  {
   "cell_type": "markdown",
   "id": "realistic-deputy",
   "metadata": {},
   "source": [
    "## Assemble and visualize all downloaded S2 images"
   ]
  },
  {
   "cell_type": "markdown",
   "id": "loving-insertion",
   "metadata": {},
   "source": [
    "Operation for one of the following four locations"
   ]
  },
  {
   "cell_type": "code",
   "execution_count": 9,
   "id": "worst-field",
   "metadata": {},
   "outputs": [],
   "source": [
    "# Chengdu\n",
    "# loc_dir = r'C:\\Users\\Jingliang\\Documents\\projects\\Sentinel-1_time_series\\Extra_cities\\Sentinel-2\\6468_3360_13'\n",
    "\n",
    "# Calama\n",
    "# loc_dir = r'C:\\Users\\Jingliang\\Documents\\projects\\Sentinel-1_time_series\\Extra_cities\\Sentinel-2\\2528_4620_13'\n",
    "\n",
    "# Cusco\n",
    "# loc_dir = r'C:\\Users\\Jingliang\\Documents\\projects\\Sentinel-1_time_series\\Extra_cities\\Sentinel-2\\2459_4406_13'\n",
    "\n",
    "# Toulouse\n",
    "loc_dir = r'C:\\Users\\Jingliang\\Documents\\projects\\Sentinel-1_time_series\\Extra_cities\\Sentinel-2\\4127_2991_13'"
   ]
  },
  {
   "cell_type": "markdown",
   "id": "moved-pattern",
   "metadata": {},
   "source": [
    "Define related operation functions"
   ]
  },
  {
   "cell_type": "code",
   "execution_count": 5,
   "id": "caroline-catch",
   "metadata": {},
   "outputs": [],
   "source": [
    "import glob\n",
    "import os\n",
    "from osgeo import gdal\n",
    "import numpy as np\n",
    "\n",
    "def assemble_s2_from_bands(month_dir,out_file):\n",
    "    s2_bands = ['B2', 'B3', 'B4', 'B5', 'B6', 'B7', 'B8', 'B8A', 'B11', 'B12']\n",
    "    # load geoinformation from B2\n",
    "    f = gdal.Open(os.path.join(month_dir,\"cloud_free.B2.tif\"))\n",
    "    row = f.RasterYSize\n",
    "    col = f.RasterXSize    \n",
    "    proj = f.GetProjection()\n",
    "    geoInfo = f.GetGeoTransform()\n",
    "    del f\n",
    "    \n",
    "    # initial geotiff output\n",
    "    driver = gdal.GetDriverByName('GTiff')\n",
    "    f_out = driver.Create(out_file, col, row, len(s2_bands),gdal.GDT_UInt16)\n",
    "    f_out.SetProjection(proj)\n",
    "    f_out.SetGeoTransform(geoInfo)\n",
    "    \n",
    "    # load bands and assemble them into out file\n",
    "    for idx_bnd in range(len(s2_bands)):\n",
    "        f = gdal.Open(os.path.join(month_dir,\"cloud_free.\" + s2_bands[idx_bnd] + \".tif\"))\n",
    "        dat = f.ReadAsArray()\n",
    "        del f        \n",
    "        outBand = f_out.GetRasterBand(idx_bnd+1)\n",
    "        outBand.WriteArray(dat)\n",
    "        outBand.FlushCache()    \n",
    "    return 0\n",
    "\n",
    "\n",
    "def s2_rgb_visualization(dat):\n",
    "    mask = dat[:,:,:]>0\n",
    "    mask = np.sum(mask,axis=0)>0\n",
    "    col_arr = np.zeros((3,dat.shape[1],dat.shape[2]))\n",
    "    for i in range(2,-1,-1):\n",
    "        tmp = dat[i,:,:]\n",
    "        tmp = tmp[mask]\n",
    "        maxx = np.quantile(tmp,0.98)\n",
    "        minn = np.quantile(tmp,0.02)\n",
    "        tmp[tmp<minn]=minn\n",
    "        tmp[tmp>maxx]=maxx\n",
    "        tmp = (255*(tmp-minn)/(maxx-minn)).astype(np.uint8)\n",
    "        col_tmp = np.zeros(dat[i,:,:].shape)\n",
    "        col_tmp[mask] = tmp\n",
    "        col_arr[2-i,:,:] = col_tmp\n",
    "    return col_arr\n",
    "\n",
    "def load_s2_tiff_file(path):\n",
    "    f = gdal.Open(path)\n",
    "    dat = f.ReadAsArray()\n",
    "    row = f.RasterYSize\n",
    "    col = f.RasterXSize\n",
    "    bnd = f.RasterCount\n",
    "    proj = f.GetProjection()\n",
    "    geoInfo = f.GetGeoTransform()\n",
    "    del f\n",
    "    return dat, row, col, bnd, proj, geoInfo\n",
    "\n",
    "def save_s2_rgb_tiff_visual(path, arr, col, row, bnd, proj, geoInfo):\n",
    "    driver = gdal.GetDriverByName('GTiff')\n",
    "    f = driver.Create(path, col, row, bnd, gdal.GDT_Byte)\n",
    "    f.SetProjection(proj)\n",
    "    f.SetGeoTransform(geoInfo)\n",
    "    for i in range(3):\n",
    "        outBand = f.GetRasterBand(i+1)\n",
    "        outBand.WriteArray(arr[i])\n",
    "        outBand.FlushCache()\n",
    "    del outBand\n",
    "    del f\n",
    "    return 0\n",
    "\n",
    "\n",
    "def initial_dir_if_not_exits(directory):\n",
    "    if not os.path.exists(directory):\n",
    "        upper_dir = '\\\\'.join(directory.split('\\\\')[:-1])\n",
    "        print(upper_dir)\n",
    "        if os.path.exists(upper_dir):                 \n",
    "            os.mkdir(directory)\n",
    "        else:\n",
    "            initial_dir_if_not_exits(upper_dir)\n",
    "    return 0\n",
    "\n"
   ]
  },
  {
   "cell_type": "markdown",
   "id": "exterior-carry",
   "metadata": {},
   "source": [
    "Main function for the operation"
   ]
  },
  {
   "cell_type": "code",
   "execution_count": 10,
   "id": "instrumental-participation",
   "metadata": {},
   "outputs": [
    {
     "name": "stdout",
     "output_type": "stream",
     "text": [
      "C:\\Users\\Jingliang\\Documents\\projects\\Sentinel-1_time_series\\Extra_cities\\Sentinel-2\\4127_2991_13\\2018_01\n",
      "C:\\Users\\Jingliang\\Documents\\projects\\Sentinel-1_time_series\\Extra_cities\\Sentinel-2\\4127_2991_13\\2018_02\n",
      "C:\\Users\\Jingliang\\Documents\\projects\\Sentinel-1_time_series\\Extra_cities\\Sentinel-2\\4127_2991_13\\2018_03\n",
      "C:\\Users\\Jingliang\\Documents\\projects\\Sentinel-1_time_series\\Extra_cities\\Sentinel-2\\4127_2991_13\\2018_04\n",
      "C:\\Users\\Jingliang\\Documents\\projects\\Sentinel-1_time_series\\Extra_cities\\Sentinel-2\\4127_2991_13\\2018_05\n",
      "C:\\Users\\Jingliang\\Documents\\projects\\Sentinel-1_time_series\\Extra_cities\\Sentinel-2\\4127_2991_13\\2018_06\n",
      "C:\\Users\\Jingliang\\Documents\\projects\\Sentinel-1_time_series\\Extra_cities\\Sentinel-2\\4127_2991_13\\2018_07\n",
      "C:\\Users\\Jingliang\\Documents\\projects\\Sentinel-1_time_series\\Extra_cities\\Sentinel-2\\4127_2991_13\\2018_08\n",
      "C:\\Users\\Jingliang\\Documents\\projects\\Sentinel-1_time_series\\Extra_cities\\Sentinel-2\\4127_2991_13\\2018_09\n",
      "C:\\Users\\Jingliang\\Documents\\projects\\Sentinel-1_time_series\\Extra_cities\\Sentinel-2\\4127_2991_13\\2018_10\n",
      "C:\\Users\\Jingliang\\Documents\\projects\\Sentinel-1_time_series\\Extra_cities\\Sentinel-2\\4127_2991_13\\2018_11\n",
      "C:\\Users\\Jingliang\\Documents\\projects\\Sentinel-1_time_series\\Extra_cities\\Sentinel-2\\4127_2991_13\\2018_12\n",
      "C:\\Users\\Jingliang\\Documents\\projects\\Sentinel-1_time_series\\Extra_cities\\Sentinel-2\\4127_2991_13\\2019_01\n",
      "C:\\Users\\Jingliang\\Documents\\projects\\Sentinel-1_time_series\\Extra_cities\\Sentinel-2\\4127_2991_13\\2019_02\n",
      "C:\\Users\\Jingliang\\Documents\\projects\\Sentinel-1_time_series\\Extra_cities\\Sentinel-2\\4127_2991_13\\2019_03\n",
      "C:\\Users\\Jingliang\\Documents\\projects\\Sentinel-1_time_series\\Extra_cities\\Sentinel-2\\4127_2991_13\\2019_04\n",
      "C:\\Users\\Jingliang\\Documents\\projects\\Sentinel-1_time_series\\Extra_cities\\Sentinel-2\\4127_2991_13\\2019_05\n",
      "C:\\Users\\Jingliang\\Documents\\projects\\Sentinel-1_time_series\\Extra_cities\\Sentinel-2\\4127_2991_13\\2019_06\n",
      "C:\\Users\\Jingliang\\Documents\\projects\\Sentinel-1_time_series\\Extra_cities\\Sentinel-2\\4127_2991_13\\2019_07\n",
      "C:\\Users\\Jingliang\\Documents\\projects\\Sentinel-1_time_series\\Extra_cities\\Sentinel-2\\4127_2991_13\\2019_08\n",
      "C:\\Users\\Jingliang\\Documents\\projects\\Sentinel-1_time_series\\Extra_cities\\Sentinel-2\\4127_2991_13\\2019_09\n",
      "C:\\Users\\Jingliang\\Documents\\projects\\Sentinel-1_time_series\\Extra_cities\\Sentinel-2\\4127_2991_13\\2019_10\n",
      "C:\\Users\\Jingliang\\Documents\\projects\\Sentinel-1_time_series\\Extra_cities\\Sentinel-2\\4127_2991_13\\2019_11\n",
      "C:\\Users\\Jingliang\\Documents\\projects\\Sentinel-1_time_series\\Extra_cities\\Sentinel-2\\4127_2991_13\\2019_12\n"
     ]
    }
   ],
   "source": [
    "s2_bands = ['B2', 'B3', 'B4', 'B5', 'B6', 'B7', 'B8', 'B8A', 'B11', 'B12']\n",
    "# get month directory\n",
    "month_dir = glob.glob(os.path.join(loc_dir,'*'))\n",
    "\n",
    "for item in month_dir:\n",
    "    print(item)\n",
    "    # set the directory for assemble tiff\n",
    "    assemble_tif_dir = os.path.join('\\\\'.join(item.split('\\\\')[:-1]), '_'.join(item.split('\\\\')[-2:])+'.tif')\n",
    "    assemble_tif_dir = assemble_tif_dir.replace('Sentinel-2','analysis_ready')\n",
    "        \n",
    "    # call assemble function\n",
    "    initial_dir_if_not_exits('\\\\'.join(assemble_tif_dir.split('\\\\')[:-1]))\n",
    "    assemble_s2_from_bands(item, assemble_tif_dir)\n",
    "    \n",
    "    # set the visualization tiff directory\n",
    "    visual_tif_dir = assemble_tif_dir.replace('.tif','_visualization.tif')   \n",
    "    \n",
    "    # generate and save the visualization tiff file\n",
    "    dat, row, col, bnd, proj, geoInfo = load_s2_tiff_file(assemble_tif_dir)\n",
    "    col_arr = s2_rgb_visualization(dat)\n",
    "    save_s2_rgb_tiff_visual(visual_tif_dir, col_arr, col, row, 3, proj, geoInfo)\n",
    "    \n"
   ]
  }
 ],
 "metadata": {
  "kernelspec": {
   "display_name": "Python 3",
   "language": "python",
   "name": "python3"
  },
  "language_info": {
   "codemirror_mode": {
    "name": "ipython",
    "version": 3
   },
   "file_extension": ".py",
   "mimetype": "text/x-python",
   "name": "python",
   "nbconvert_exporter": "python",
   "pygments_lexer": "ipython3",
   "version": "3.8.5"
  }
 },
 "nbformat": 4,
 "nbformat_minor": 5
}
