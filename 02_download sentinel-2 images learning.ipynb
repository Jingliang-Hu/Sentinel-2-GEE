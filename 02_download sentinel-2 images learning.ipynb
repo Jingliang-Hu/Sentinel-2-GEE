{
 "cells": [
  {
   "cell_type": "markdown",
   "id": "powerful-nature",
   "metadata": {},
   "source": [
    "## Region of interest"
   ]
  },
  {
   "cell_type": "markdown",
   "id": "bored-marks",
   "metadata": {},
   "source": [
    "Path to geojson files of cities, Toulouse, Cusco, and Calama"
   ]
  },
  {
   "cell_type": "code",
   "execution_count": null,
   "id": "perceived-squad",
   "metadata": {},
   "outputs": [],
   "source": [
    "path_to_roi_geojson = r'toulouse.geojson'"
   ]
  },
  {
   "cell_type": "markdown",
   "id": "limiting-lover",
   "metadata": {},
   "source": [
    "Load ROI from geojson file"
   ]
  },
  {
   "cell_type": "code",
   "execution_count": null,
   "id": "republican-villa",
   "metadata": {},
   "outputs": [],
   "source": [
    "import json\n",
    "f = open(path_to_roi_geojson)\n",
    "dat = json.load(f)\n",
    "roi = dat['coordinates']\n",
    "\n",
    "import ee\n",
    "ee.Initialize()\n",
    "ee_roi = ee.Geometry.Polygon(roi)"
   ]
  },
  {
   "cell_type": "markdown",
   "id": "resident-rugby",
   "metadata": {},
   "source": [
    "Visualize the ROI on a base map"
   ]
  },
  {
   "cell_type": "code",
   "execution_count": null,
   "id": "precious-final",
   "metadata": {},
   "outputs": [],
   "source": [
    "import geemap\n",
    "Map = geemap.Map()\n",
    "Map.centerObject(ee_roi,13)\n",
    "Map.addLayer(ee_roi, {'color': 'FF0000'})\n",
    "Map"
   ]
  },
  {
   "cell_type": "markdown",
   "id": "alert-client",
   "metadata": {},
   "source": [
    "## Retrive S2 images suit the criterion"
   ]
  },
  {
   "cell_type": "code",
   "execution_count": null,
   "id": "resident-picking",
   "metadata": {},
   "outputs": [],
   "source": [
    "import ee\n",
    "import os\n",
    "def clipImg(x):\n",
    "    return x.clip(ee_roi)\n",
    "\n",
    "s2_bands = ['B2', 'B3', 'B4', 'B5', 'B6', 'B7', 'B8', 'B8A', 'B11', 'B12']\n",
    "collection = ee.ImageCollection('COPERNICUS/S2') \\\n",
    "    .filterBounds(ee_roi) \\\n",
    "    .filterDate('2018-02-01', '2018-02-15') \\\n",
    "    .map(clipImg) \\\n",
    "    .select(s2_bands)\n",
    "\n",
    "print(collection.aggregate_array('system:index').getInfo())\n",
    "img = collection.first()"
   ]
  },
  {
   "cell_type": "markdown",
   "id": "opposite-village",
   "metadata": {},
   "source": [
    "## Generate cloud free data"
   ]
  },
  {
   "cell_type": "code",
   "execution_count": null,
   "id": "controversial-wholesale",
   "metadata": {},
   "outputs": [],
   "source": [
    "import sys\n",
    "#sys.path.append(r'C:\\Users\\Jingliang\\Documents\\projects\\Sentinel-1_time_series\\Extra_cities\\src')\n",
    "import sentinel_2_cloud_free\n",
    "\n",
    "# This function solve everything, but the data can not be downloaded\n",
    "img = sentinel_2_cloud_free.exportCloudFreeSen2(ee_roi, '2018-01-01', '2018-02-01')\n",
    "\n",
    "# img = sentinel_2_cloud_free.mergeCollection(collection)\n",
    "# img = collection.first()\n",
    "Map.addLayer(img, {'bands': ['B4', 'B3', 'B2'], 'min': 0, 'max': 4000})\n",
    "Map"
   ]
  },
  {
   "cell_type": "markdown",
   "id": "disciplinary-salon",
   "metadata": {},
   "source": [
    "## Data download"
   ]
  },
  {
   "cell_type": "code",
   "execution_count": null,
   "id": "precise-headquarters",
   "metadata": {},
   "outputs": [],
   "source": [
    "save_dir = r'to-be-set'\n",
    "# geemap.ee_export_image_collection(collection, out_dir=save_dir, region=ee_roi, scale=10)\n",
    "geemap.ee_export_image(img, filename='s2_toulouse_feb.tif', scale=10, region=ee_roi, file_per_band=True)\n"
   ]
  }
 ],
 "metadata": {
  "kernelspec": {
   "display_name": "Python 3",
   "language": "python",
   "name": "python3"
  },
  "language_info": {
   "codemirror_mode": {
    "name": "ipython",
    "version": 3
   },
   "file_extension": ".py",
   "mimetype": "text/x-python",
   "name": "python",
   "nbconvert_exporter": "python",
   "pygments_lexer": "ipython3",
   "version": "3.8.5"
  }
 },
 "nbformat": 4,
 "nbformat_minor": 5
}
