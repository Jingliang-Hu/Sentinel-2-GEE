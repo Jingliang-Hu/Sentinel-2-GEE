{
 "cells": [
  {
   "cell_type": "code",
   "execution_count": null,
   "id": "designed-brief",
   "metadata": {},
   "outputs": [],
   "source": [
    "import ee\n",
    "import geemap\n",
    "import os"
   ]
  },
  {
   "cell_type": "code",
   "execution_count": null,
   "id": "alpha-lemon",
   "metadata": {},
   "outputs": [],
   "source": [
    "Map = geemap.Map()\n",
    "Map"
   ]
  },
  {
   "cell_type": "code",
   "execution_count": null,
   "id": "prospective-herald",
   "metadata": {},
   "outputs": [],
   "source": [
    "image = ee.Image('LE7_TOA_5YEAR/1999_2003')\n",
    "\n",
    "landsat_vis={\n",
    "    'bands':['B4','B3','B2'],\n",
    "    'gamma': 1.4\n",
    "}\n",
    "\n",
    "Map.addLayer(image, landsat_vis, \"LE7_TOA_5YEAR/1999_2003\",True, 1)"
   ]
  },
  {
   "cell_type": "code",
   "execution_count": null,
   "id": "careful-quantity",
   "metadata": {},
   "outputs": [],
   "source": [
    "feature = Map.draw_last_feature\n",
    "roi = feature.geometry()\n",
    "roi"
   ]
  },
  {
   "cell_type": "code",
   "execution_count": null,
   "id": "altered-hybrid",
   "metadata": {},
   "outputs": [],
   "source": [
    "filename = 'landsat.tif'"
   ]
  },
  {
   "cell_type": "code",
   "execution_count": null,
   "id": "burning-edinburgh",
   "metadata": {},
   "outputs": [],
   "source": [
    "image = image.clip(roi).unmask()\n"
   ]
  },
  {
   "cell_type": "code",
   "execution_count": null,
   "id": "interpreted-combine",
   "metadata": {},
   "outputs": [],
   "source": [
    "geemap.ee_export_image(image, filename=filename, scale=90, region=roi, file_per_band=False)"
   ]
  },
  {
   "cell_type": "code",
   "execution_count": null,
   "id": "given-wayne",
   "metadata": {},
   "outputs": [],
   "source": [
    "geemap.ee_export_image_to_drive(image, description='landsat', folder='export', region=roi, scale=30)\n"
   ]
  },
  {
   "cell_type": "markdown",
   "id": "billion-procurement",
   "metadata": {},
   "source": [
    "# Download an ee.ImageCollection"
   ]
  },
  {
   "cell_type": "code",
   "execution_count": null,
   "id": "guided-wrapping",
   "metadata": {},
   "outputs": [],
   "source": [
    "import ee\n",
    "import geemap\n",
    "import os\n"
   ]
  },
  {
   "cell_type": "code",
   "execution_count": null,
   "id": "designing-charm",
   "metadata": {},
   "outputs": [],
   "source": [
    "loc = ee.Geometry.Point(-99.2222, 46.7816)\n",
    "collection = ee.ImageCollection('USDA/NAIP/DOQQ') \\\n",
    "    .filterBounds(loc) \\\n",
    "    .filterDate('2008-01-01', '2020-01-01') \\\n",
    "    .filter(ee.Filter.listContains(\"system:band_names\", \"N\"))"
   ]
  },
  {
   "cell_type": "code",
   "execution_count": null,
   "id": "imperial-apache",
   "metadata": {},
   "outputs": [],
   "source": [
    "print(collection.aggregate_array('system:index').getInfo())\n"
   ]
  },
  {
   "cell_type": "code",
   "execution_count": null,
   "id": "tired-stocks",
   "metadata": {},
   "outputs": [],
   "source": [
    "geemap.ee_export_image_collection(collection, out_dir='.')\n"
   ]
  },
  {
   "cell_type": "code",
   "execution_count": null,
   "id": "provincial-capture",
   "metadata": {},
   "outputs": [],
   "source": []
  }
 ],
 "metadata": {
  "kernelspec": {
   "display_name": "Python 3",
   "language": "python",
   "name": "python3"
  },
  "language_info": {
   "codemirror_mode": {
    "name": "ipython",
    "version": 3
   },
   "file_extension": ".py",
   "mimetype": "text/x-python",
   "name": "python",
   "nbconvert_exporter": "python",
   "pygments_lexer": "ipython3",
   "version": "3.8.5"
  }
 },
 "nbformat": 4,
 "nbformat_minor": 5
}
