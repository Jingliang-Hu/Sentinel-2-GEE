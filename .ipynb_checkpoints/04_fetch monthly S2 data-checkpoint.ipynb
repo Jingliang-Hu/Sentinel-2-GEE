{
 "cells": [
  {
   "cell_type": "markdown",
   "id": "dramatic-threat",
   "metadata": {},
   "source": [
    "## Region of interest"
   ]
  },
  {
   "cell_type": "markdown",
   "id": "devoted-morgan",
   "metadata": {},
   "source": [
    "Path to geojson files of cities, Toulouse, Cusco, and Calama"
   ]
  },
  {
   "cell_type": "code",
   "execution_count": null,
   "id": "automated-learning",
   "metadata": {},
   "outputs": [],
   "source": [
    "# path_to_roi_geojson = r'C:\\Users\\Jingliang\\Documents\\projects\\Sentinel-1_time_series\\Extra_cities\\roi\\chengdu-china.geojson'\n",
    "# path_to_roi_geojson = r'C:\\Users\\Jingliang\\Documents\\projects\\Sentinel-1_time_series\\Extra_cities\\roi\\calama.geojson'\n",
    "# path_to_roi_geojson = r'C:\\Users\\Jingliang\\Documents\\projects\\Sentinel-1_time_series\\Extra_cities\\roi\\cusco.geojson'\n",
    "path_to_roi_geojson = r'C:\\Users\\Jingliang\\Documents\\projects\\Sentinel-1_time_series\\Extra_cities\\roi\\toulouse.geojson'"
   ]
  },
  {
   "cell_type": "markdown",
   "id": "statistical-seeker",
   "metadata": {},
   "source": [
    "Load ROI from geojson file"
   ]
  },
  {
   "cell_type": "code",
   "execution_count": null,
   "id": "considered-blood",
   "metadata": {},
   "outputs": [],
   "source": [
    "import json\n",
    "f = open(path_to_roi_geojson)\n",
    "dat = json.load(f)\n",
    "#roi = dat['geometry']['coordinates']\n",
    "roi = dat['coordinates']\n",
    "dat"
   ]
  },
  {
   "cell_type": "code",
   "execution_count": null,
   "id": "beautiful-cemetery",
   "metadata": {},
   "outputs": [],
   "source": [
    "loc_name = dat['properties']['title']\n",
    "import numpy as np\n",
    "import ee\n",
    "ee.Initialize()\n",
    "def get_utm_epsg_ee(lon, lat):\n",
    "    #coords = feature.geometry().coordinates()\n",
    "    lon = ee.Number(lon)\n",
    "    lat = ee.Number(lat)\n",
    "    epsg = ee.Number(32700).subtract(lat.add(45).divide(90).round().multiply(100)).add(lon.add(183).divide(6).round()).uint16()    \n",
    "    return ee.String(\"EPSG:\").cat(ee.String(str(epsg.getInfo())))#ee.String(\"EPSG:\").cat\n",
    "def get_utm_epsg(lon,lat):\n",
    "    if lat<0:\n",
    "        EPSG = 32700\n",
    "    else:\n",
    "        EPSG = 32600\n",
    "    EPSG = int(EPSG + np.floor((lon+180)/6) + 1)\n",
    "    return EPSG\n",
    "\n",
    "ee_roi = ee.Geometry.Polygon(roi)\n",
    "epsg=get_utm_epsg_ee(roi[0][0][0], roi[0][0][1])\n",
    "print(epsg.getInfo())\n",
    "\n"
   ]
  },
  {
   "cell_type": "markdown",
   "id": "brutal-tanzania",
   "metadata": {},
   "source": [
    "Initial directory for saving data"
   ]
  },
  {
   "cell_type": "code",
   "execution_count": null,
   "id": "increased-analyst",
   "metadata": {},
   "outputs": [],
   "source": [
    "import os\n",
    "\n",
    "def initial_dir_if_not_exits(directory):\n",
    "    if not os.path.exists(directory):\n",
    "        upper_dir = '\\\\'.join(directory.split('\\\\')[:-1])\n",
    "        print(upper_dir)\n",
    "        if os.path.exists(upper_dir):                 \n",
    "            os.mkdir(directory)\n",
    "        else:\n",
    "            initial_dir_if_not_exits(upper_dir)\n",
    "    return 0\n",
    "\n",
    "\n",
    "\n",
    "path_to_data_store_directory = r'C:\\Users\\Jingliang\\Documents\\projects\\Sentinel-1_time_series\\Extra_cities\\Sentinel-2'\n",
    "loc_dir = os.path.join(path_to_data_store_directory,loc_name)\n",
    "initial_dir_if_not_exits(loc_dir)\n"
   ]
  },
  {
   "cell_type": "markdown",
   "id": "mental-ethics",
   "metadata": {},
   "source": [
    "Visualize the ROI on a base map"
   ]
  },
  {
   "cell_type": "code",
   "execution_count": null,
   "id": "cooperative-newspaper",
   "metadata": {},
   "outputs": [],
   "source": [
    "import geemap\n",
    "Map = geemap.Map()\n",
    "Map.centerObject(ee_roi,13)\n",
    "Map.addLayer(ee_roi, {'color': 'FF0000'})\n",
    "Map"
   ]
  },
  {
   "cell_type": "markdown",
   "id": "thrown-works",
   "metadata": {},
   "source": [
    "## Download all S2 images monthly"
   ]
  },
  {
   "cell_type": "markdown",
   "id": "athletic-counter",
   "metadata": {},
   "source": [
    "import ee\n",
    "import os\n",
    "def clipImg(x):\n",
    "    return x.clip(ee_roi)\n",
    "s2_bands = ['B2', 'B3', 'B4', 'B5', 'B6', 'B7', 'B8', 'B8A', 'B11', 'B12']\n",
    "years = [2018,2019]\n",
    "months = [1,2,3,4,5,6,7,8,9,10,11,12]\n",
    "\n",
    "\n",
    "for y in years:\n",
    "    for m in months:\n",
    "        # initial a directory for data of every month\n",
    "        if m<10:\n",
    "            time_str = str(y)+'_0'+str(m)\n",
    "        else:\n",
    "            time_str = str(y)+'_'+str(m)        \n",
    "        monthly_dir = os.path.join(loc_dir, time_str)\n",
    "        initial_dir_if_not_exits(monthly_dir)\n",
    "        \n",
    "        # set time period and retrieve corresponding data\n",
    "        start_date = ee.Date.fromYMD(y, m, 1)\n",
    "        if m == 12:\n",
    "            end_date = ee.Date.fromYMD(y+1, 1, 1)\n",
    "        else:\n",
    "            end_date = ee.Date.fromYMD(y, m+1, 1)\n",
    "            \n",
    "        collection = ee.ImageCollection('COPERNICUS/S2') \\\n",
    "            .filterBounds(ee_roi) \\\n",
    "            .filterDate(start_date, end_date) \\\n",
    "            .map(clipImg) \\\n",
    "            .select(s2_bands)\n",
    "        \n",
    "        # download data sets\n",
    "        geemap.ee_export_image_collection(collection, out_dir=monthly_dir, region=ee_roi, scale=10)\n",
    "\n"
   ]
  },
  {
   "cell_type": "markdown",
   "id": "present-philosophy",
   "metadata": {},
   "source": [
    "## Generate one cloud free data per month, and download"
   ]
  },
  {
   "cell_type": "code",
   "execution_count": null,
   "id": "british-davis",
   "metadata": {},
   "outputs": [],
   "source": [
    "import sys\n",
    "sys.path.append(r'C:\\Users\\Jingliang\\Documents\\projects\\Sentinel-1_time_series\\Extra_cities\\src')\n",
    "import sentinel_2_cloud_free\n",
    "\n",
    "import ee\n",
    "import os\n",
    "def clipImg(x):\n",
    "    return x.clip(ee_roi)\n",
    "years = [2018,2019]\n",
    "months = [1,2,3,4,5,6,7,8,9,10,11,12]\n",
    "\n",
    "# years = [2018]\n",
    "# months = [1]\n",
    "\n",
    "for y in years:\n",
    "    for m in months:\n",
    "        # initial a directory for data of every month\n",
    "        if m<10:\n",
    "            time_str = str(y)+'_0'+str(m)\n",
    "        else:\n",
    "            time_str = str(y)+'_'+str(m)\n",
    "            \n",
    "        monthly_dir = os.path.join(loc_dir, time_str)\n",
    "        initial_dir_if_not_exits(monthly_dir)\n",
    "        \n",
    "        # set time period and retrieve corresponding data\n",
    "        start_date = ee.Date.fromYMD(y, m, 1)\n",
    "        if m == 12:\n",
    "            end_date = ee.Date.fromYMD(y+1, 1, 1)\n",
    "        else:\n",
    "            end_date = ee.Date.fromYMD(y, m+1, 1)\n",
    "            \n",
    "            \n",
    "        # This function solve everything, but the data can not be downloaded\n",
    "        img = sentinel_2_cloud_free.exportCloudFreeSen2(ee_roi, start_date, end_date)\n",
    "        \n",
    "        # Visualize the cloudy free data in map\n",
    "        Map.addLayer(img, {'bands': ['B4', 'B3', 'B2'], 'min': 0, 'max': 4000})\n",
    "        \n",
    "        # download data sets\n",
    "        # geemap.ee_export_image_collection(collection, out_dir=monthly_dir, region=ee_roi, scale=10, file_per_band=True)\n",
    "        geemap.ee_export_image(img, filename=os.path.join(monthly_dir,'cloud_free.tif'), scale=10, region=ee_roi, crs=ee.Projection(epsg), file_per_band=True)\n"
   ]
  }
 ],
 "metadata": {
  "kernelspec": {
   "display_name": "Python 3",
   "language": "python",
   "name": "python3"
  },
  "language_info": {
   "codemirror_mode": {
    "name": "ipython",
    "version": 3
   },
   "file_extension": ".py",
   "mimetype": "text/x-python",
   "name": "python",
   "nbconvert_exporter": "python",
   "pygments_lexer": "ipython3",
   "version": "3.8.5"
  }
 },
 "nbformat": 4,
 "nbformat_minor": 5
}
